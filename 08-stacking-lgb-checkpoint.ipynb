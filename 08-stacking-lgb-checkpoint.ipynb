{
 "cells": [
  {
   "cell_type": "markdown",
   "metadata": {},
   "source": [
    "# 데모"
   ]
  },
  {
   "cell_type": "markdown",
   "metadata": {},
   "source": [
    "## 라이브러리 import 및 설정"
   ]
  },
  {
   "cell_type": "code",
   "execution_count": 1,
   "metadata": {
    "ExecuteTime": {
     "end_time": "2020-09-28T05:43:14.031289Z",
     "start_time": "2020-09-28T05:43:13.691075Z"
    }
   },
   "outputs": [],
   "source": [
    "%reload_ext autoreload\n",
    "%autoreload 2\n",
    "%matplotlib inline"
   ]
  },
  {
   "cell_type": "code",
   "execution_count": 2,
   "metadata": {
    "ExecuteTime": {
     "end_time": "2020-09-28T05:43:15.027358Z",
     "start_time": "2020-09-28T05:43:14.033429Z"
    }
   },
   "outputs": [],
   "source": [
    "import lightgbm as lgb\n",
    "from matplotlib import pyplot as plt\n",
    "from matplotlib import rcParams\n",
    "import numpy as np\n",
    "from pathlib import Path\n",
    "import pandas as pd\n",
    "from sklearn.metrics import accuracy_score\n",
    "from sklearn.model_selection import StratifiedKFold\n",
    "import seaborn as sns\n",
    "import warnings"
   ]
  },
  {
   "cell_type": "code",
   "execution_count": 3,
   "metadata": {
    "ExecuteTime": {
     "end_time": "2020-09-28T05:43:15.051234Z",
     "start_time": "2020-09-28T05:43:15.031049Z"
    }
   },
   "outputs": [],
   "source": [
    "rcParams['figure.figsize'] = (16, 8)\n",
    "plt.style.use('fivethirtyeight')\n",
    "pd.set_option('max_columns', 100)\n",
    "pd.set_option(\"display.precision\", 4)\n",
    "warnings.simplefilter('ignore')"
   ]
  },
  {
   "cell_type": "markdown",
   "metadata": {},
   "source": [
    "## 학습데이터 로드"
   ]
  },
  {
   "cell_type": "markdown",
   "metadata": {},
   "source": [
    "[03-pandas-eda.ipynb](https://github.com/kaggler-tv/dku-kaggle-class/blob/master/notebook/03-pandas-eda.ipynb)에서 생성한 `feature.csv` 피처파일 사용"
   ]
  },
  {
   "cell_type": "code",
   "execution_count": 4,
   "metadata": {
    "ExecuteTime": {
     "end_time": "2020-09-28T05:43:15.074207Z",
     "start_time": "2020-09-28T05:43:15.054223Z"
    }
   },
   "outputs": [],
   "source": [
    "data_dir = Path('./DACON')\n",
    "feature_dir = Path('./DACON_feature')\n",
    "val_dir = Path('./DACON_val')\n",
    "tst_dir = Path('./DACON_tst')\n",
    "sub_dir = Path('./DACON_sub')\n",
    "\n",
    "trn_file = data_dir / 'train.csv'\n",
    "tst_file = data_dir / 'test.csv'\n",
    "sample_file = data_dir / 'sample_submission.csv'\n",
    "\n",
    "target_col = 'class'\n",
    "n_fold = 5\n",
    "n_class = 3\n",
    "seed = 42"
   ]
  },
  {
   "cell_type": "code",
   "execution_count": 5,
   "metadata": {
    "ExecuteTime": {
     "end_time": "2020-09-28T05:43:15.114867Z",
     "start_time": "2020-09-28T05:43:15.095929Z"
    }
   },
   "outputs": [],
   "source": [
    "algo_name = 'lgbcv'\n",
    "feature_name = 'stacking1'\n",
    "model_name = f'{algo_name}_{feature_name}'\n",
    "\n",
    "feature_file = feature_dir / f'{feature_name}.csv'\n",
    "p_val_file = val_dir / f'{model_name}.val.csv'\n",
    "p_tst_file = tst_dir / f'{model_name}.tst.csv'\n",
    "sub_file = sub_dir / f'{model_name}.csv'"
   ]
  },
  {
   "cell_type": "markdown",
   "metadata": {},
   "source": [
    "## Stacking Feature 생성"
   ]
  },
  {
   "cell_type": "code",
   "execution_count": 6,
   "metadata": {
    "ExecuteTime": {
     "end_time": "2020-09-28T05:43:21.585056Z",
     "start_time": "2020-09-28T05:43:21.562310Z"
    }
   },
   "outputs": [
    {
     "data": {
      "text/plain": [
       "['lrcv_polyfeature_class0',\n",
       " 'lrcv_polyfeature_class1',\n",
       " 'lrcv_polyfeature_class2',\n",
       " 'rfcv_feature_class0',\n",
       " 'rfcv_feature_class1',\n",
       " 'rfcv_feature_class2',\n",
       " 'lgbcv_feature_class0',\n",
       " 'lgbcv_feature_class1',\n",
       " 'lgbcv_feature_class2']"
      ]
     },
     "execution_count": 6,
     "metadata": {},
     "output_type": "execute_result"
    }
   ],
   "source": [
    "model_names = ['lrcv_polyfeature', 'rfcv_feature', 'lgbcv_feature']\n",
    "trn = []\n",
    "tst = []\n",
    "feature_names = []\n",
    "for model in model_names:\n",
    "    trn.append(np.loadtxt(val_dir / f'{model}.val.csv', delimiter=','))\n",
    "    tst.append(np.loadtxt(tst_dir / f'{model}.tst.csv', delimiter=','))\n",
    "    feature_names += [f'{model}_class0', f'{model}_class1', f'{model}_class2']\n",
    "    \n",
    "trn = np.hstack(trn)\n",
    "tst = np.hstack(tst)\n",
    "feature_names"
   ]
  },
  {
   "cell_type": "code",
   "execution_count": 7,
   "metadata": {
    "ExecuteTime": {
     "end_time": "2020-09-28T05:43:22.033040Z",
     "start_time": "2020-09-28T05:43:21.587165Z"
    }
   },
   "outputs": [
    {
     "data": {
      "text/plain": [
       "(320000,)"
      ]
     },
     "execution_count": 7,
     "metadata": {},
     "output_type": "execute_result"
    }
   ],
   "source": [
    "y = pd.read_csv(trn_file, index_col=0, usecols=['id', target_col]).values.flatten()\n",
    "y.shape"
   ]
  },
  {
   "cell_type": "markdown",
   "metadata": {},
   "source": [
    "## Stratified K-Fold Cross Validation"
   ]
  },
  {
   "cell_type": "code",
   "execution_count": 8,
   "metadata": {
    "ExecuteTime": {
     "end_time": "2020-09-28T05:43:22.058304Z",
     "start_time": "2020-09-28T05:43:22.034882Z"
    }
   },
   "outputs": [],
   "source": [
    "cv = StratifiedKFold(n_splits=n_fold, shuffle=True, random_state=seed)"
   ]
  },
  {
   "cell_type": "markdown",
   "metadata": {},
   "source": [
    "## LightGBM 모델 학습"
   ]
  },
  {
   "cell_type": "code",
   "execution_count": 9,
   "metadata": {
    "ExecuteTime": {
     "end_time": "2020-09-28T05:43:37.381222Z",
     "start_time": "2020-09-28T05:43:22.061038Z"
    }
   },
   "outputs": [
    {
     "name": "stdout",
     "output_type": "stream",
     "text": [
      "training model for CV #1\n",
      "[1]\tvalid_0's multi_logloss: 0.836766\n",
      "Training until validation scores don't improve for 10 rounds\n",
      "[2]\tvalid_0's multi_logloss: 0.72529\n",
      "[3]\tvalid_0's multi_logloss: 0.637631\n",
      "[4]\tvalid_0's multi_logloss: 0.566523\n",
      "[5]\tvalid_0's multi_logloss: 0.508167\n",
      "[6]\tvalid_0's multi_logloss: 0.459685\n",
      "[7]\tvalid_0's multi_logloss: 0.419065\n",
      "[8]\tvalid_0's multi_logloss: 0.38472\n",
      "[9]\tvalid_0's multi_logloss: 0.355606\n",
      "[10]\tvalid_0's multi_logloss: 0.330667\n",
      "[11]\tvalid_0's multi_logloss: 0.309274\n",
      "[12]\tvalid_0's multi_logloss: 0.290974\n",
      "[13]\tvalid_0's multi_logloss: 0.275171\n",
      "[14]\tvalid_0's multi_logloss: 0.26153\n",
      "[15]\tvalid_0's multi_logloss: 0.249681\n",
      "[16]\tvalid_0's multi_logloss: 0.239409\n",
      "[17]\tvalid_0's multi_logloss: 0.230492\n",
      "[18]\tvalid_0's multi_logloss: 0.222735\n",
      "[19]\tvalid_0's multi_logloss: 0.215929\n",
      "[20]\tvalid_0's multi_logloss: 0.210008\n",
      "[21]\tvalid_0's multi_logloss: 0.204871\n",
      "[22]\tvalid_0's multi_logloss: 0.200324\n",
      "[23]\tvalid_0's multi_logloss: 0.196342\n",
      "[24]\tvalid_0's multi_logloss: 0.192855\n",
      "[25]\tvalid_0's multi_logloss: 0.189758\n",
      "[26]\tvalid_0's multi_logloss: 0.187064\n",
      "[27]\tvalid_0's multi_logloss: 0.184683\n",
      "[28]\tvalid_0's multi_logloss: 0.182645\n",
      "[29]\tvalid_0's multi_logloss: 0.180728\n",
      "[30]\tvalid_0's multi_logloss: 0.179028\n",
      "[31]\tvalid_0's multi_logloss: 0.177479\n",
      "[32]\tvalid_0's multi_logloss: 0.176169\n",
      "[33]\tvalid_0's multi_logloss: 0.17494\n",
      "[34]\tvalid_0's multi_logloss: 0.173955\n",
      "[35]\tvalid_0's multi_logloss: 0.17294\n",
      "[36]\tvalid_0's multi_logloss: 0.172099\n",
      "[37]\tvalid_0's multi_logloss: 0.171302\n",
      "[38]\tvalid_0's multi_logloss: 0.170629\n",
      "[39]\tvalid_0's multi_logloss: 0.170009\n",
      "[40]\tvalid_0's multi_logloss: 0.169407\n",
      "[41]\tvalid_0's multi_logloss: 0.16911\n",
      "[42]\tvalid_0's multi_logloss: 0.168729\n",
      "[43]\tvalid_0's multi_logloss: 0.168286\n",
      "[44]\tvalid_0's multi_logloss: 0.167938\n",
      "[45]\tvalid_0's multi_logloss: 0.167567\n",
      "[46]\tvalid_0's multi_logloss: 0.167259\n",
      "[47]\tvalid_0's multi_logloss: 0.166957\n",
      "[48]\tvalid_0's multi_logloss: 0.166714\n",
      "[49]\tvalid_0's multi_logloss: 0.166465\n",
      "[50]\tvalid_0's multi_logloss: 0.166284\n",
      "[51]\tvalid_0's multi_logloss: 0.166126\n",
      "[52]\tvalid_0's multi_logloss: 0.165964\n",
      "[53]\tvalid_0's multi_logloss: 0.16576\n",
      "[54]\tvalid_0's multi_logloss: 0.165626\n",
      "[55]\tvalid_0's multi_logloss: 0.165488\n",
      "[56]\tvalid_0's multi_logloss: 0.165446\n",
      "[57]\tvalid_0's multi_logloss: 0.165542\n",
      "[58]\tvalid_0's multi_logloss: 0.166568\n",
      "[59]\tvalid_0's multi_logloss: 0.166118\n",
      "[60]\tvalid_0's multi_logloss: 0.166027\n",
      "[61]\tvalid_0's multi_logloss: 0.165995\n",
      "[62]\tvalid_0's multi_logloss: 0.165909\n",
      "[63]\tvalid_0's multi_logloss: 0.165834\n",
      "[64]\tvalid_0's multi_logloss: 0.16575\n",
      "[65]\tvalid_0's multi_logloss: 0.171423\n",
      "[66]\tvalid_0's multi_logloss: 0.16739\n",
      "Early stopping, best iteration is:\n",
      "[56]\tvalid_0's multi_logloss: 0.165446\n",
      "training model for CV #2\n",
      "[1]\tvalid_0's multi_logloss: 0.835638\n",
      "Training until validation scores don't improve for 10 rounds\n",
      "[2]\tvalid_0's multi_logloss: 0.723714\n",
      "[3]\tvalid_0's multi_logloss: 0.635746\n",
      "[4]\tvalid_0's multi_logloss: 0.564746\n",
      "[5]\tvalid_0's multi_logloss: 0.506224\n",
      "[6]\tvalid_0's multi_logloss: 0.457897\n",
      "[7]\tvalid_0's multi_logloss: 0.417079\n",
      "[8]\tvalid_0's multi_logloss: 0.382653\n",
      "[9]\tvalid_0's multi_logloss: 0.353327\n",
      "[10]\tvalid_0's multi_logloss: 0.328495\n",
      "[11]\tvalid_0's multi_logloss: 0.307183\n",
      "[12]\tvalid_0's multi_logloss: 0.288903\n",
      "[13]\tvalid_0's multi_logloss: 0.273117\n",
      "[14]\tvalid_0's multi_logloss: 0.259441\n",
      "[15]\tvalid_0's multi_logloss: 0.247735\n",
      "[16]\tvalid_0's multi_logloss: 0.237482\n",
      "[17]\tvalid_0's multi_logloss: 0.228646\n",
      "[18]\tvalid_0's multi_logloss: 0.220863\n",
      "[19]\tvalid_0's multi_logloss: 0.214098\n",
      "[20]\tvalid_0's multi_logloss: 0.208213\n",
      "[21]\tvalid_0's multi_logloss: 0.203026\n",
      "[22]\tvalid_0's multi_logloss: 0.198476\n",
      "[23]\tvalid_0's multi_logloss: 0.194567\n",
      "[24]\tvalid_0's multi_logloss: 0.191113\n",
      "[25]\tvalid_0's multi_logloss: 0.18804\n",
      "[26]\tvalid_0's multi_logloss: 0.185349\n",
      "[27]\tvalid_0's multi_logloss: 0.182979\n",
      "[28]\tvalid_0's multi_logloss: 0.18087\n",
      "[29]\tvalid_0's multi_logloss: 0.179067\n",
      "[30]\tvalid_0's multi_logloss: 0.177377\n",
      "[31]\tvalid_0's multi_logloss: 0.175832\n",
      "[32]\tvalid_0's multi_logloss: 0.174488\n",
      "[33]\tvalid_0's multi_logloss: 0.173357\n",
      "[34]\tvalid_0's multi_logloss: 0.172334\n",
      "[35]\tvalid_0's multi_logloss: 0.171401\n",
      "[36]\tvalid_0's multi_logloss: 0.170573\n",
      "[37]\tvalid_0's multi_logloss: 0.169807\n",
      "[38]\tvalid_0's multi_logloss: 0.16911\n",
      "[39]\tvalid_0's multi_logloss: 0.168525\n",
      "[40]\tvalid_0's multi_logloss: 0.167975\n",
      "[41]\tvalid_0's multi_logloss: 0.167492\n",
      "[42]\tvalid_0's multi_logloss: 0.167078\n",
      "[43]\tvalid_0's multi_logloss: 0.16667\n",
      "[44]\tvalid_0's multi_logloss: 0.166384\n",
      "[45]\tvalid_0's multi_logloss: 0.166047\n",
      "[46]\tvalid_0's multi_logloss: 0.165781\n",
      "[47]\tvalid_0's multi_logloss: 0.165526\n",
      "[48]\tvalid_0's multi_logloss: 0.165303\n",
      "[49]\tvalid_0's multi_logloss: 0.165058\n",
      "[50]\tvalid_0's multi_logloss: 0.16489\n",
      "[51]\tvalid_0's multi_logloss: 0.164736\n",
      "[52]\tvalid_0's multi_logloss: 0.16593\n",
      "[53]\tvalid_0's multi_logloss: 0.16469\n",
      "[54]\tvalid_0's multi_logloss: 0.164565\n",
      "[55]\tvalid_0's multi_logloss: 0.164475\n",
      "[56]\tvalid_0's multi_logloss: 0.168275\n",
      "[57]\tvalid_0's multi_logloss: 0.164277\n",
      "[58]\tvalid_0's multi_logloss: 0.164262\n",
      "[59]\tvalid_0's multi_logloss: 0.164148\n",
      "[60]\tvalid_0's multi_logloss: 0.164191\n",
      "[61]\tvalid_0's multi_logloss: 0.173585\n",
      "[62]\tvalid_0's multi_logloss: 0.167104\n",
      "[63]\tvalid_0's multi_logloss: 0.166289\n",
      "[64]\tvalid_0's multi_logloss: 0.166237\n",
      "[65]\tvalid_0's multi_logloss: 0.166146\n",
      "[66]\tvalid_0's multi_logloss: 0.166117\n",
      "[67]\tvalid_0's multi_logloss: 0.166061\n",
      "[68]\tvalid_0's multi_logloss: 0.166054\n",
      "[69]\tvalid_0's multi_logloss: 0.166035\n",
      "Early stopping, best iteration is:\n",
      "[59]\tvalid_0's multi_logloss: 0.164148\n",
      "training model for CV #3\n",
      "[1]\tvalid_0's multi_logloss: 0.835785\n",
      "Training until validation scores don't improve for 10 rounds\n",
      "[2]\tvalid_0's multi_logloss: 0.723843\n",
      "[3]\tvalid_0's multi_logloss: 0.635813\n",
      "[4]\tvalid_0's multi_logloss: 0.564914\n",
      "[5]\tvalid_0's multi_logloss: 0.50661\n",
      "[6]\tvalid_0's multi_logloss: 0.458068\n",
      "[7]\tvalid_0's multi_logloss: 0.417314\n",
      "[8]\tvalid_0's multi_logloss: 0.382939\n",
      "[9]\tvalid_0's multi_logloss: 0.353911\n",
      "[10]\tvalid_0's multi_logloss: 0.329076\n",
      "[11]\tvalid_0's multi_logloss: 0.307756\n",
      "[12]\tvalid_0's multi_logloss: 0.289514\n",
      "[13]\tvalid_0's multi_logloss: 0.273766\n",
      "[14]\tvalid_0's multi_logloss: 0.260171\n",
      "[15]\tvalid_0's multi_logloss: 0.248511\n",
      "[16]\tvalid_0's multi_logloss: 0.238275\n",
      "[17]\tvalid_0's multi_logloss: 0.2294\n",
      "[18]\tvalid_0's multi_logloss: 0.221699\n",
      "[19]\tvalid_0's multi_logloss: 0.215009\n",
      "[20]\tvalid_0's multi_logloss: 0.209142\n",
      "[21]\tvalid_0's multi_logloss: 0.204004\n",
      "[22]\tvalid_0's multi_logloss: 0.199542\n",
      "[23]\tvalid_0's multi_logloss: 0.195601\n",
      "[24]\tvalid_0's multi_logloss: 0.192181\n",
      "[25]\tvalid_0's multi_logloss: 0.189083\n",
      "[26]\tvalid_0's multi_logloss: 0.18642\n",
      "[27]\tvalid_0's multi_logloss: 0.183987\n",
      "[28]\tvalid_0's multi_logloss: 0.181923\n",
      "[29]\tvalid_0's multi_logloss: 0.180071\n",
      "[30]\tvalid_0's multi_logloss: 0.178422\n",
      "[31]\tvalid_0's multi_logloss: 0.176948\n",
      "[32]\tvalid_0's multi_logloss: 0.175632\n",
      "[33]\tvalid_0's multi_logloss: 0.174498\n",
      "[34]\tvalid_0's multi_logloss: 0.173505\n",
      "[35]\tvalid_0's multi_logloss: 0.172575\n",
      "[36]\tvalid_0's multi_logloss: 0.171711\n",
      "[37]\tvalid_0's multi_logloss: 0.170934\n",
      "[38]\tvalid_0's multi_logloss: 0.170276\n",
      "[39]\tvalid_0's multi_logloss: 0.16967\n",
      "[40]\tvalid_0's multi_logloss: 0.169139\n",
      "[41]\tvalid_0's multi_logloss: 0.168635\n",
      "[42]\tvalid_0's multi_logloss: 0.168216\n",
      "[43]\tvalid_0's multi_logloss: 0.167856\n",
      "[44]\tvalid_0's multi_logloss: 0.167463\n",
      "[45]\tvalid_0's multi_logloss: 0.167158\n",
      "[46]\tvalid_0's multi_logloss: 0.166871\n",
      "[47]\tvalid_0's multi_logloss: 0.167291\n",
      "[48]\tvalid_0's multi_logloss: 0.166858\n",
      "[49]\tvalid_0's multi_logloss: 0.16659\n",
      "[50]\tvalid_0's multi_logloss: 0.168099\n",
      "[51]\tvalid_0's multi_logloss: 0.166191\n",
      "[52]\tvalid_0's multi_logloss: 0.168948\n",
      "[53]\tvalid_0's multi_logloss: 0.167433\n",
      "[54]\tvalid_0's multi_logloss: 0.166882\n",
      "[55]\tvalid_0's multi_logloss: 0.165976\n",
      "[56]\tvalid_0's multi_logloss: 0.165854\n",
      "[57]\tvalid_0's multi_logloss: 0.165784\n",
      "[58]\tvalid_0's multi_logloss: 0.165661\n",
      "[59]\tvalid_0's multi_logloss: 0.165598\n",
      "[60]\tvalid_0's multi_logloss: 0.165528\n",
      "[61]\tvalid_0's multi_logloss: 0.170898\n",
      "[62]\tvalid_0's multi_logloss: 0.165424\n",
      "[63]\tvalid_0's multi_logloss: 0.172916\n",
      "[64]\tvalid_0's multi_logloss: 0.165298\n",
      "[65]\tvalid_0's multi_logloss: 0.165218\n",
      "[66]\tvalid_0's multi_logloss: 0.168083\n",
      "[67]\tvalid_0's multi_logloss: 0.167341\n"
     ]
    },
    {
     "name": "stdout",
     "output_type": "stream",
     "text": [
      "[68]\tvalid_0's multi_logloss: 0.165422\n",
      "[69]\tvalid_0's multi_logloss: 0.165446\n",
      "[70]\tvalid_0's multi_logloss: 0.165432\n",
      "[71]\tvalid_0's multi_logloss: 0.170812\n",
      "[72]\tvalid_0's multi_logloss: 0.167001\n",
      "[73]\tvalid_0's multi_logloss: 0.17296\n",
      "[74]\tvalid_0's multi_logloss: 0.167054\n",
      "[75]\tvalid_0's multi_logloss: 0.167939\n",
      "Early stopping, best iteration is:\n",
      "[65]\tvalid_0's multi_logloss: 0.165218\n",
      "training model for CV #4\n",
      "[1]\tvalid_0's multi_logloss: 0.835735\n",
      "Training until validation scores don't improve for 10 rounds\n",
      "[2]\tvalid_0's multi_logloss: 0.723714\n",
      "[3]\tvalid_0's multi_logloss: 0.635468\n",
      "[4]\tvalid_0's multi_logloss: 0.564354\n",
      "[5]\tvalid_0's multi_logloss: 0.505732\n",
      "[6]\tvalid_0's multi_logloss: 0.458129\n",
      "[7]\tvalid_0's multi_logloss: 0.41731\n",
      "[8]\tvalid_0's multi_logloss: 0.382816\n",
      "[9]\tvalid_0's multi_logloss: 0.353563\n",
      "[10]\tvalid_0's multi_logloss: 0.328717\n",
      "[11]\tvalid_0's multi_logloss: 0.307755\n",
      "[12]\tvalid_0's multi_logloss: 0.289396\n",
      "[13]\tvalid_0's multi_logloss: 0.273579\n",
      "[14]\tvalid_0's multi_logloss: 0.260008\n",
      "[15]\tvalid_0's multi_logloss: 0.248467\n",
      "[16]\tvalid_0's multi_logloss: 0.238239\n",
      "[17]\tvalid_0's multi_logloss: 0.230139\n",
      "[18]\tvalid_0's multi_logloss: 0.222549\n",
      "[19]\tvalid_0's multi_logloss: 0.215854\n",
      "[20]\tvalid_0's multi_logloss: 0.210014\n",
      "[21]\tvalid_0's multi_logloss: 0.20498\n",
      "[22]\tvalid_0's multi_logloss: 0.201869\n",
      "[23]\tvalid_0's multi_logloss: 0.197954\n",
      "[24]\tvalid_0's multi_logloss: 0.194949\n",
      "[25]\tvalid_0's multi_logloss: 0.191924\n",
      "[26]\tvalid_0's multi_logloss: 0.189244\n",
      "[27]\tvalid_0's multi_logloss: 0.188389\n",
      "[28]\tvalid_0's multi_logloss: 0.186342\n",
      "[29]\tvalid_0's multi_logloss: 0.184602\n",
      "[30]\tvalid_0's multi_logloss: 0.183077\n",
      "[31]\tvalid_0's multi_logloss: 0.182265\n",
      "[32]\tvalid_0's multi_logloss: 0.181036\n",
      "[33]\tvalid_0's multi_logloss: 0.179939\n",
      "[34]\tvalid_0's multi_logloss: 0.178961\n",
      "[35]\tvalid_0's multi_logloss: 0.178198\n",
      "[36]\tvalid_0's multi_logloss: 0.17742\n",
      "[37]\tvalid_0's multi_logloss: 0.17674\n",
      "[38]\tvalid_0's multi_logloss: 0.176161\n",
      "[39]\tvalid_0's multi_logloss: 0.175739\n",
      "[40]\tvalid_0's multi_logloss: 0.175283\n",
      "[41]\tvalid_0's multi_logloss: 0.174926\n",
      "[42]\tvalid_0's multi_logloss: 0.174512\n",
      "[43]\tvalid_0's multi_logloss: 0.176654\n",
      "[44]\tvalid_0's multi_logloss: 0.176244\n",
      "[45]\tvalid_0's multi_logloss: 0.176077\n",
      "[46]\tvalid_0's multi_logloss: 0.176078\n",
      "[47]\tvalid_0's multi_logloss: 0.175796\n",
      "[48]\tvalid_0's multi_logloss: 0.175552\n",
      "[49]\tvalid_0's multi_logloss: 0.175143\n",
      "[50]\tvalid_0's multi_logloss: 0.175026\n",
      "[51]\tvalid_0's multi_logloss: 0.242826\n",
      "[52]\tvalid_0's multi_logloss: 0.220749\n",
      "Early stopping, best iteration is:\n",
      "[42]\tvalid_0's multi_logloss: 0.174512\n",
      "training model for CV #5\n",
      "[1]\tvalid_0's multi_logloss: 0.836515\n",
      "Training until validation scores don't improve for 10 rounds\n",
      "[2]\tvalid_0's multi_logloss: 0.724995\n",
      "[3]\tvalid_0's multi_logloss: 0.637245\n",
      "[4]\tvalid_0's multi_logloss: 0.566306\n",
      "[5]\tvalid_0's multi_logloss: 0.507895\n",
      "[6]\tvalid_0's multi_logloss: 0.459318\n",
      "[7]\tvalid_0's multi_logloss: 0.418501\n",
      "[8]\tvalid_0's multi_logloss: 0.384012\n",
      "[9]\tvalid_0's multi_logloss: 0.354688\n",
      "[10]\tvalid_0's multi_logloss: 0.329814\n",
      "[11]\tvalid_0's multi_logloss: 0.308425\n",
      "[12]\tvalid_0's multi_logloss: 0.290061\n",
      "[13]\tvalid_0's multi_logloss: 0.274218\n",
      "[14]\tvalid_0's multi_logloss: 0.260457\n",
      "[15]\tvalid_0's multi_logloss: 0.248583\n",
      "[16]\tvalid_0's multi_logloss: 0.238304\n",
      "[17]\tvalid_0's multi_logloss: 0.229401\n",
      "[18]\tvalid_0's multi_logloss: 0.221635\n",
      "[19]\tvalid_0's multi_logloss: 0.214868\n",
      "[20]\tvalid_0's multi_logloss: 0.208906\n",
      "[21]\tvalid_0's multi_logloss: 0.203717\n",
      "[22]\tvalid_0's multi_logloss: 0.199122\n",
      "[23]\tvalid_0's multi_logloss: 0.19513\n",
      "[24]\tvalid_0's multi_logloss: 0.191606\n",
      "[25]\tvalid_0's multi_logloss: 0.188543\n",
      "[26]\tvalid_0's multi_logloss: 0.185814\n",
      "[27]\tvalid_0's multi_logloss: 0.183421\n",
      "[28]\tvalid_0's multi_logloss: 0.181246\n",
      "[29]\tvalid_0's multi_logloss: 0.179342\n",
      "[30]\tvalid_0's multi_logloss: 0.177701\n",
      "[31]\tvalid_0's multi_logloss: 0.176211\n",
      "[32]\tvalid_0's multi_logloss: 0.174884\n",
      "[33]\tvalid_0's multi_logloss: 0.173698\n",
      "[34]\tvalid_0's multi_logloss: 0.172592\n",
      "[35]\tvalid_0's multi_logloss: 0.171641\n",
      "[36]\tvalid_0's multi_logloss: 0.170825\n",
      "[37]\tvalid_0's multi_logloss: 0.170079\n",
      "[38]\tvalid_0's multi_logloss: 0.169403\n",
      "[39]\tvalid_0's multi_logloss: 0.168775\n",
      "[40]\tvalid_0's multi_logloss: 0.168213\n",
      "[41]\tvalid_0's multi_logloss: 0.167715\n",
      "[42]\tvalid_0's multi_logloss: 0.167271\n",
      "[43]\tvalid_0's multi_logloss: 0.166885\n",
      "[44]\tvalid_0's multi_logloss: 0.166521\n",
      "[45]\tvalid_0's multi_logloss: 0.166181\n",
      "[46]\tvalid_0's multi_logloss: 0.165852\n",
      "[47]\tvalid_0's multi_logloss: 0.165545\n",
      "[48]\tvalid_0's multi_logloss: 0.165311\n",
      "[49]\tvalid_0's multi_logloss: 0.165143\n",
      "[50]\tvalid_0's multi_logloss: 0.164879\n",
      "[51]\tvalid_0's multi_logloss: 0.164698\n",
      "[52]\tvalid_0's multi_logloss: 0.164557\n",
      "[53]\tvalid_0's multi_logloss: 0.164531\n",
      "[54]\tvalid_0's multi_logloss: 0.164302\n",
      "[55]\tvalid_0's multi_logloss: 0.164193\n",
      "[56]\tvalid_0's multi_logloss: 0.164113\n",
      "[57]\tvalid_0's multi_logloss: 0.166183\n",
      "[58]\tvalid_0's multi_logloss: 0.163932\n",
      "[59]\tvalid_0's multi_logloss: 0.163861\n",
      "[60]\tvalid_0's multi_logloss: 0.164429\n",
      "[61]\tvalid_0's multi_logloss: 0.16442\n",
      "[62]\tvalid_0's multi_logloss: 0.167026\n",
      "[63]\tvalid_0's multi_logloss: 0.167181\n",
      "[64]\tvalid_0's multi_logloss: 0.164883\n",
      "[65]\tvalid_0's multi_logloss: 0.17781\n",
      "[66]\tvalid_0's multi_logloss: 0.168285\n",
      "[67]\tvalid_0's multi_logloss: 0.168231\n",
      "[68]\tvalid_0's multi_logloss: 0.169066\n",
      "[69]\tvalid_0's multi_logloss: 0.174962\n",
      "Early stopping, best iteration is:\n",
      "[59]\tvalid_0's multi_logloss: 0.163861\n"
     ]
    }
   ],
   "source": [
    "p_val = np.zeros((trn.shape[0], n_class))\n",
    "p_tst = np.zeros((tst.shape[0], n_class))\n",
    "for i, (i_trn, i_val) in enumerate(cv.split(trn, y), 1):\n",
    "    print(f'training model for CV #{i}')\n",
    "    clf = lgb.LGBMClassifier(objective='multiclass',\n",
    "                             n_estimators=1000,\n",
    "                             num_leaves=64,\n",
    "                             learning_rate=0.1,\n",
    "                             min_child_samples=10,\n",
    "                             subsample=.5,\n",
    "                             subsample_freq=1,\n",
    "                             colsample_bytree=.8,\n",
    "                             random_state=seed,\n",
    "                             n_jobs=-1)\n",
    "    clf.fit(trn[i_trn], y[i_trn],\n",
    "            eval_set=[(trn[i_val], y[i_val])],\n",
    "            eval_metric='multiclass',\n",
    "            early_stopping_rounds=10)\n",
    "    \n",
    "    p_val[i_val, :] = clf.predict_proba(trn[i_val])\n",
    "    p_tst += clf.predict_proba(tst) / n_fold"
   ]
  },
  {
   "cell_type": "code",
   "execution_count": 11,
   "metadata": {
    "ExecuteTime": {
     "end_time": "2020-09-28T05:43:37.438933Z",
     "start_time": "2020-09-28T05:43:37.383525Z"
    }
   },
   "outputs": [
    {
     "name": "stdout",
     "output_type": "stream",
     "text": [
      "93.0588%\n"
     ]
    }
   ],
   "source": [
    "print(f'{accuracy_score(y, np.argmax(p_val, axis=1)) * 100:.4f}%')"
   ]
  },
  {
   "cell_type": "code",
   "execution_count": 12,
   "metadata": {
    "ExecuteTime": {
     "end_time": "2020-09-28T05:43:37.471851Z",
     "start_time": "2020-09-28T05:43:37.441418Z"
    }
   },
   "outputs": [
    {
     "name": "stdout",
     "output_type": "stream",
     "text": [
      "(320000, 3) (80000, 3)\n"
     ]
    }
   ],
   "source": [
    "print(p_val.shape, p_tst.shape)"
   ]
  },
  {
   "cell_type": "code",
   "execution_count": 13,
   "metadata": {
    "ExecuteTime": {
     "end_time": "2020-09-28T05:43:38.307946Z",
     "start_time": "2020-09-28T05:43:37.475036Z"
    }
   },
   "outputs": [],
   "source": [
    "np.savetxt(p_val_file, p_val, fmt='%.6f', delimiter=',')\n",
    "np.savetxt(p_tst_file, p_tst, fmt='%.6f', delimiter=',')"
   ]
  },
  {
   "cell_type": "markdown",
   "metadata": {},
   "source": [
    "## 피처 중요도 시각화"
   ]
  },
  {
   "cell_type": "code",
   "execution_count": 14,
   "metadata": {
    "ExecuteTime": {
     "end_time": "2020-09-28T05:43:38.496250Z",
     "start_time": "2020-09-28T05:43:38.309625Z"
    }
   },
   "outputs": [
    {
     "ename": "AttributeError",
     "evalue": "'LGBMClassifier' object has no attribute 'coef_'",
     "output_type": "error",
     "traceback": [
      "\u001b[1;31m---------------------------------------------------------------------------\u001b[0m",
      "\u001b[1;31mAttributeError\u001b[0m                            Traceback (most recent call last)",
      "\u001b[1;32m<ipython-input-14-742ca016ff99>\u001b[0m in \u001b[0;36m<module>\u001b[1;34m\u001b[0m\n\u001b[1;32m----> 1\u001b[1;33m \u001b[0mclf\u001b[0m\u001b[1;33m.\u001b[0m\u001b[0mcoef_\u001b[0m\u001b[1;33m.\u001b[0m\u001b[0mshape\u001b[0m\u001b[1;33m\u001b[0m\u001b[1;33m\u001b[0m\u001b[0m\n\u001b[0m",
      "\u001b[1;31mAttributeError\u001b[0m: 'LGBMClassifier' object has no attribute 'coef_'"
     ]
    }
   ],
   "source": [
    "clf.coef_.shape"
   ]
  },
  {
   "cell_type": "code",
   "execution_count": 15,
   "metadata": {
    "ExecuteTime": {
     "end_time": "2020-09-28T05:43:38.498268Z",
     "start_time": "2020-09-28T05:43:13.700Z"
    },
    "scrolled": false
   },
   "outputs": [
    {
     "data": {
      "text/plain": [
       "<matplotlib.axes._subplots.AxesSubplot at 0x18b454c82b0>"
      ]
     },
     "execution_count": 15,
     "metadata": {},
     "output_type": "execute_result"
    },
    {
     "data": {
      "image/png": "[encoded data removed]",
      "text/plain": [
       "<Figure size 1152x576 with 1 Axes>"
      ]
     },
     "metadata": {},
     "output_type": "display_data"
    }
   ],
   "source": [
    "imp = pd.DataFrame({'feature': feature_names, 'importance': clf.feature_importances_})\n",
    "imp = imp.sort_values('importance').set_index('feature')\n",
    "imp.plot(kind='barh')"
   ]
  },
  {
   "cell_type": "markdown",
   "metadata": {},
   "source": [
    "## 제출 파일 생성"
   ]
  },
  {
   "cell_type": "code",
   "execution_count": 16,
   "metadata": {
    "ExecuteTime": {
     "end_time": "2020-09-28T05:43:38.499448Z",
     "start_time": "2020-09-28T05:43:13.702Z"
    }
   },
   "outputs": [
    {
     "name": "stdout",
     "output_type": "stream",
     "text": [
      "(80000, 1)\n"
     ]
    },
    {
     "data": {
      "text/html": [
       "<div>\n",
       "<style scoped>\n",
       "    .dataframe tbody tr th:only-of-type {\n",
       "        vertical-align: middle;\n",
       "    }\n",
       "\n",
       "    .dataframe tbody tr th {\n",
       "        vertical-align: top;\n",
       "    }\n",
       "\n",
       "    .dataframe thead th {\n",
       "        text-align: right;\n",
       "    }\n",
       "</style>\n",
       "<table border=\"1\" class=\"dataframe\">\n",
       "  <thead>\n",
       "    <tr style=\"text-align: right;\">\n",
       "      <th></th>\n",
       "      <th>class</th>\n",
       "    </tr>\n",
       "    <tr>\n",
       "      <th>id</th>\n",
       "      <th></th>\n",
       "    </tr>\n",
       "  </thead>\n",
       "  <tbody>\n",
       "    <tr>\n",
       "      <th>320000</th>\n",
       "      <td>0</td>\n",
       "    </tr>\n",
       "    <tr>\n",
       "      <th>320001</th>\n",
       "      <td>0</td>\n",
       "    </tr>\n",
       "    <tr>\n",
       "      <th>320002</th>\n",
       "      <td>0</td>\n",
       "    </tr>\n",
       "    <tr>\n",
       "      <th>320003</th>\n",
       "      <td>0</td>\n",
       "    </tr>\n",
       "    <tr>\n",
       "      <th>320004</th>\n",
       "      <td>0</td>\n",
       "    </tr>\n",
       "  </tbody>\n",
       "</table>\n",
       "</div>"
      ],
      "text/plain": [
       "        class\n",
       "id           \n",
       "320000      0\n",
       "320001      0\n",
       "320002      0\n",
       "320003      0\n",
       "320004      0"
      ]
     },
     "execution_count": 16,
     "metadata": {},
     "output_type": "execute_result"
    }
   ],
   "source": [
    "sub = pd.read_csv(sample_file, index_col=0)\n",
    "print(sub.shape)\n",
    "sub.head()"
   ]
  },
  {
   "cell_type": "code",
   "execution_count": 17,
   "metadata": {
    "ExecuteTime": {
     "end_time": "2020-09-28T05:43:38.500730Z",
     "start_time": "2020-09-28T05:43:13.704Z"
    }
   },
   "outputs": [
    {
     "data": {
      "text/html": [
       "<div>\n",
       "<style scoped>\n",
       "    .dataframe tbody tr th:only-of-type {\n",
       "        vertical-align: middle;\n",
       "    }\n",
       "\n",
       "    .dataframe tbody tr th {\n",
       "        vertical-align: top;\n",
       "    }\n",
       "\n",
       "    .dataframe thead th {\n",
       "        text-align: right;\n",
       "    }\n",
       "</style>\n",
       "<table border=\"1\" class=\"dataframe\">\n",
       "  <thead>\n",
       "    <tr style=\"text-align: right;\">\n",
       "      <th></th>\n",
       "      <th>class</th>\n",
       "    </tr>\n",
       "    <tr>\n",
       "      <th>id</th>\n",
       "      <th></th>\n",
       "    </tr>\n",
       "  </thead>\n",
       "  <tbody>\n",
       "    <tr>\n",
       "      <th>320000</th>\n",
       "      <td>2</td>\n",
       "    </tr>\n",
       "    <tr>\n",
       "      <th>320001</th>\n",
       "      <td>0</td>\n",
       "    </tr>\n",
       "    <tr>\n",
       "      <th>320002</th>\n",
       "      <td>2</td>\n",
       "    </tr>\n",
       "    <tr>\n",
       "      <th>320003</th>\n",
       "      <td>0</td>\n",
       "    </tr>\n",
       "    <tr>\n",
       "      <th>320004</th>\n",
       "      <td>2</td>\n",
       "    </tr>\n",
       "  </tbody>\n",
       "</table>\n",
       "</div>"
      ],
      "text/plain": [
       "        class\n",
       "id           \n",
       "320000      2\n",
       "320001      0\n",
       "320002      2\n",
       "320003      0\n",
       "320004      2"
      ]
     },
     "execution_count": 17,
     "metadata": {},
     "output_type": "execute_result"
    }
   ],
   "source": [
    "sub[target_col] = np.argmax(p_tst, axis=1)\n",
    "sub.head()"
   ]
  },
  {
   "cell_type": "code",
   "execution_count": 18,
   "metadata": {
    "ExecuteTime": {
     "end_time": "2020-09-28T05:43:38.501965Z",
     "start_time": "2020-09-28T05:43:13.706Z"
    }
   },
   "outputs": [
    {
     "data": {
      "text/plain": [
       "2    40878\n",
       "0    29978\n",
       "1     9144\n",
       "Name: class, dtype: int64"
      ]
     },
     "execution_count": 18,
     "metadata": {},
     "output_type": "execute_result"
    }
   ],
   "source": [
    "sub[target_col].value_counts()"
   ]
  },
  {
   "cell_type": "code",
   "execution_count": 19,
   "metadata": {
    "ExecuteTime": {
     "end_time": "2020-09-28T05:43:38.503045Z",
     "start_time": "2020-09-28T05:43:13.707Z"
    }
   },
   "outputs": [],
   "source": [
    "sub.to_csv(sub_file)"
   ]
  },
  {
   "cell_type": "code",
   "execution_count": null,
   "metadata": {},
   "outputs": [],
   "source": []
  }
 ],
 "metadata": {
  "kernelspec": {
   "display_name": "Python 3",
   "language": "python",
   "name": "python3"
  },
  "language_info": {
   "codemirror_mode": {
    "name": "ipython",
    "version": 3
   },
   "file_extension": ".py",
   "mimetype": "text/x-python",
   "name": "python",
   "nbconvert_exporter": "python",
   "pygments_lexer": "ipython3",
   "version": "3.8.3"
  },
  "toc": {
   "base_numbering": 1,
   "nav_menu": {},
   "number_sections": true,
   "sideBar": true,
   "skip_h1_title": true,
   "title_cell": "Table of Contents",
   "title_sidebar": "Contents",
   "toc_cell": false,
   "toc_position": {},
   "toc_section_display": true,
   "toc_window_display": false
  },
  "varInspector": {
   "cols": {
    "lenName": 16,
    "lenType": 16,
    "lenVar": 40
   },
   "kernels_config": {
    "python": {
     "delete_cmd_postfix": "",
     "delete_cmd_prefix": "del ",
     "library": "var_list.py",
     "varRefreshCmd": "print(var_dic_list())"
    },
    "r": {
     "delete_cmd_postfix": ") ",
     "delete_cmd_prefix": "rm(",
     "library": "var_list.r",
     "varRefreshCmd": "cat(var_dic_list()) "
    }
   },
   "types_to_exclude": [
    "module",
    "function",
    "builtin_function_or_method",
    "instance",
    "_Feature"
   ],
   "window_display": false
  }
 },
 "nbformat": 4,
 "nbformat_minor": 4
}
